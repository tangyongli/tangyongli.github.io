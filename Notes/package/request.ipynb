{
 "cells": [
  {
   "cell_type": "markdown",
   "metadata": {},
   "source": [
    "## Basic concept\n",
    "==Request headers== are sent by the client to the server and contain information and instructions related to the requested resource.==Response headers are opposite==\n",
    "+ Accept:define the media type that the clien can accept from server \n",
    "  + Accept: application/json, text/html\n",
    "+ User-Agent: which browser or app makes the requests\n",
    "  + google, microsoft edge，python-requests/2.31.0'\n",
    "+ Authorization:send the client’s credentials to the server\n",
    "+ Content-Type:media type of the content in the request body.\n",
    "  + Content-Type: application/json\n",
    "+ cookie\n",
    "+ Cache-Control\n",
    "  + Cache-Control: max-age=3600, public . the client to cache the response for a maximum of 3600 seconds (1 hour) and allows caching by public caches."
   ]
  },
  {
   "cell_type": "code",
   "execution_count": 22,
   "metadata": {},
   "outputs": [
    {
     "name": "stdout",
     "output_type": "stream",
     "text": [
      "{'User-Agent': 'python-requests/2.31.0', 'Accept-Encoding': 'gzip, deflate', 'Accept': '*/*', 'Connection': 'keep-alive'}\n",
      "响应头内容：\n",
      "{'Server': 'GitHub.com', 'Date': 'Mon, 03 Jun 2024 03:57:56 GMT', 'Content-Type': 'application/json; charset=utf-8', 'Cache-Control': 'public, max-age=60, s-maxage=60', 'Vary': 'Accept, Accept-Encoding, Accept, X-Requested-With', 'ETag': 'W/\"4f825cc84e1c733059d46e76e6df9db557ae5254f9625dfe8e1b09499c449438\"', 'X-GitHub-Media-Type': 'github.v3; format=json', 'x-github-api-version-selected': '2022-11-28', 'Access-Control-Expose-Headers': 'ETag, Link, Location, Retry-After, X-GitHub-OTP, X-RateLimit-Limit, X-RateLimit-Remaining, X-RateLimit-Used, X-RateLimit-Resource, X-RateLimit-Reset, X-OAuth-Scopes, X-Accepted-OAuth-Scopes, X-Poll-Interval, X-GitHub-Media-Type, X-GitHub-SSO, X-GitHub-Request-Id, Deprecation, Sunset', 'Access-Control-Allow-Origin': '*', 'Strict-Transport-Security': 'max-age=31536000; includeSubdomains; preload', 'X-Frame-Options': 'deny', 'X-Content-Type-Options': 'nosniff', 'X-XSS-Protection': '0', 'Referrer-Policy': 'origin-when-cross-origin, strict-origin-when-cross-origin', 'Content-Security-Policy': \"default-src 'none'\", 'Content-Encoding': 'gzip', 'X-RateLimit-Limit': '60', 'X-RateLimit-Remaining': '53', 'X-RateLimit-Reset': '1717390548', 'X-RateLimit-Resource': 'core', 'X-RateLimit-Used': '7', 'Accept-Ranges': 'bytes', 'Content-Length': '510', 'X-GitHub-Request-Id': '07C0:2F31D:43B5D34:445B498:665D3F44'}\n",
      "None\n",
      "b'{\"current_user_url\":\"https://api.github.com/user\",\"current_user_authorizations_html_url\":\"https://github.com/settings/connections/applications{/client_id}\",\"authorizations_url\":\"https://api.github.com/authorizations\",\"code_search_url\":\"https://api.github.com/search/code?q={query}{&page,per_page,sort,order}\",\"commit_search_url\":\"https://api.github.com/search/commits?q={query}{&page,per_page,sort,order}\",\"emails_url\":\"https://api.github.com/user/emails\",\"emojis_url\":\"https://api.github.com/emojis\",\"events_url\":\"https://api.github.com/events\",\"feeds_url\":\"https://api.github.com/feeds\",\"followers_url\":\"https://api.github.com/user/followers\",\"following_url\":\"https://api.github.com/user/following{/target}\",\"gists_url\":\"https://api.github.com/gists{/gist_id}\",\"hub_url\":\"https://api.github.com/hub\",\"issue_search_url\":\"https://api.github.com/search/issues?q={query}{&page,per_page,sort,order}\",\"issues_url\":\"https://api.github.com/issues\",\"keys_url\":\"https://api.github.com/user/keys\",\"label_search_url\":\"https://api.github.com/search/labels?q={query}&repository_id={repository_id}{&page,per_page}\",\"notifications_url\":\"https://api.github.com/notifications\",\"organization_url\":\"https://api.github.com/orgs/{org}\",\"organization_repositories_url\":\"https://api.github.com/orgs/{org}/repos{?type,page,per_page,sort}\",\"organization_teams_url\":\"https://api.github.com/orgs/{org}/teams\",\"public_gists_url\":\"https://api.github.com/gists/public\",\"rate_limit_url\":\"https://api.github.com/rate_limit\",\"repository_url\":\"https://api.github.com/repos/{owner}/{repo}\",\"repository_search_url\":\"https://api.github.com/search/repositories?q={query}{&page,per_page,sort,order}\",\"current_user_repositories_url\":\"https://api.github.com/user/repos{?type,page,per_page,sort}\",\"starred_url\":\"https://api.github.com/user/starred{/owner}{/repo}\",\"starred_gists_url\":\"https://api.github.com/gists/starred\",\"topic_search_url\":\"https://api.github.com/search/topics?q={query}{&page,per_page}\",\"user_url\":\"https://api.github.com/users/{user}\",\"user_organizations_url\":\"https://api.github.com/user/orgs\",\"user_repositories_url\":\"https://api.github.com/users/{user}/repos{?type,page,per_page,sort}\",\"user_search_url\":\"https://api.github.com/search/users?q={query}{&page,per_page,sort,order}\"}'\n",
      "Success!\n",
      "{'User-Agent': 'python-requests/2.31.0', 'Accept-Encoding': 'gzip, deflate', 'Accept': '*/*', 'Connection': 'keep-alive'}\n",
      "响应头内容：\n",
      "{'Server': 'GitHub.com', 'Date': 'Mon, 03 Jun 2024 03:57:56 GMT', 'Content-Type': 'application/json; charset=utf-8', 'X-GitHub-Media-Type': 'github.v3; format=json', 'x-github-api-version-selected': '2022-11-28', 'Access-Control-Expose-Headers': 'ETag, Link, Location, Retry-After, X-GitHub-OTP, X-RateLimit-Limit, X-RateLimit-Remaining, X-RateLimit-Used, X-RateLimit-Resource, X-RateLimit-Reset, X-OAuth-Scopes, X-Accepted-OAuth-Scopes, X-Poll-Interval, X-GitHub-Media-Type, X-GitHub-SSO, X-GitHub-Request-Id, Deprecation, Sunset', 'Access-Control-Allow-Origin': '*', 'Strict-Transport-Security': 'max-age=31536000; includeSubdomains; preload', 'X-Frame-Options': 'deny', 'X-Content-Type-Options': 'nosniff', 'X-XSS-Protection': '0', 'Referrer-Policy': 'origin-when-cross-origin, strict-origin-when-cross-origin', 'Content-Security-Policy': \"default-src 'none'\", 'Vary': 'Accept-Encoding, Accept, X-Requested-With', 'Content-Encoding': 'gzip', 'X-RateLimit-Limit': '60', 'X-RateLimit-Remaining': '52', 'X-RateLimit-Reset': '1717390548', 'X-RateLimit-Resource': 'core', 'X-RateLimit-Used': '8', 'Content-Length': '91', 'X-GitHub-Request-Id': '07C1:2F7187:C668EF4:C87DA16:665D3F44'}\n",
      "HTTP error occurred: 404 Client Error: Not Found for url: https://api.github.com/invalid\n"
     ]
    }
   ],
   "source": [
    "import requests\n",
    "from requests.exceptions import HTTPError\n",
    "\n",
    "URLS = [\"https://api.github.com\",\"https://api.github.com/invalid\"]\n",
    "'''\n",
    "If you invoke .raise_for_status(), then Requests will raise an HTTPError for status codes between 400 and 600. \n",
    "If the status code indicates a successful request, then the program will proceed without raising that exception.\n",
    "\n",
    "'''\n",
    "for url in URLS:\n",
    "    try:\n",
    "        response = requests.get(url)\n",
    "        print(\"请求头内容：\")\n",
    "        print(response.request.headers)\n",
    "        print(\"响应头内容：\")\n",
    "        print(response.headers)\n",
    "        print(response.raise_for_status()) # if success, it's NONE\n",
    "        print(response.content) #<class 'bytes'>\n",
    "        response.text # convert to string\n",
    "        response_dict =response.json() # json is one dict. {key:value,key:value,key:value}\n",
    "\n",
    "    except HTTPError as http_err: \n",
    "        print(f\"HTTP error occurred: {http_err}\") # 404\n",
    "    except Exception as err:\n",
    "        print(f\"Other error occurred: {err}\")\n",
    "    else:\n",
    "        print(\"Success!\")"
   ]
  },
  {
   "cell_type": "markdown",
   "metadata": {},
   "source": [
    "## Query String Parameters"
   ]
  },
  {
   "cell_type": "code",
   "execution_count": 23,
   "metadata": {},
   "outputs": [
    {
     "name": "stdout",
     "output_type": "stream",
     "text": [
      "Name: public-apis\n",
      "Description: A collective list of free APIs\n",
      "Stars: 295223\n",
      "{'id': 54346799, 'node_id': 'MDEwOlJlcG9zaXRvcnk1NDM0Njc5OQ==', 'name': 'public-apis', 'full_name': 'public-apis/public-apis', 'private': False, 'owner': {'login': 'public-apis', 'id': 51121562, 'node_id': 'MDEyOk9yZ2FuaXphdGlvbjUxMTIxNTYy', 'avatar_url': 'https://avatars.githubusercontent.com/u/51121562?v=4', 'gravatar_id': '', 'url': 'https://api.github.com/users/public-apis', 'html_url': 'https://github.com/public-apis', 'followers_url': 'https://api.github.com/users/public-apis/followers', 'following_url': 'https://api.github.com/users/public-apis/following{/other_user}', 'gists_url': 'https://api.github.com/users/public-apis/gists{/gist_id}', 'starred_url': 'https://api.github.com/users/public-apis/starred{/owner}{/repo}', 'subscriptions_url': 'https://api.github.com/users/public-apis/subscriptions', 'organizations_url': 'https://api.github.com/users/public-apis/orgs', 'repos_url': 'https://api.github.com/users/public-apis/repos', 'events_url': 'https://api.github.com/users/public-apis/events{/privacy}', 'received_events_url': 'https://api.github.com/users/public-apis/received_events', 'type': 'Organization', 'site_admin': False}, 'html_url': 'https://github.com/public-apis/public-apis', 'description': 'A collective list of free APIs', 'fork': False, 'url': 'https://api.github.com/repos/public-apis/public-apis', 'forks_url': 'https://api.github.com/repos/public-apis/public-apis/forks', 'keys_url': 'https://api.github.com/repos/public-apis/public-apis/keys{/key_id}', 'collaborators_url': 'https://api.github.com/repos/public-apis/public-apis/collaborators{/collaborator}', 'teams_url': 'https://api.github.com/repos/public-apis/public-apis/teams', 'hooks_url': 'https://api.github.com/repos/public-apis/public-apis/hooks', 'issue_events_url': 'https://api.github.com/repos/public-apis/public-apis/issues/events{/number}', 'events_url': 'https://api.github.com/repos/public-apis/public-apis/events', 'assignees_url': 'https://api.github.com/repos/public-apis/public-apis/assignees{/user}', 'branches_url': 'https://api.github.com/repos/public-apis/public-apis/branches{/branch}', 'tags_url': 'https://api.github.com/repos/public-apis/public-apis/tags', 'blobs_url': 'https://api.github.com/repos/public-apis/public-apis/git/blobs{/sha}', 'git_tags_url': 'https://api.github.com/repos/public-apis/public-apis/git/tags{/sha}', 'git_refs_url': 'https://api.github.com/repos/public-apis/public-apis/git/refs{/sha}', 'trees_url': 'https://api.github.com/repos/public-apis/public-apis/git/trees{/sha}', 'statuses_url': 'https://api.github.com/repos/public-apis/public-apis/statuses/{sha}', 'languages_url': 'https://api.github.com/repos/public-apis/public-apis/languages', 'stargazers_url': 'https://api.github.com/repos/public-apis/public-apis/stargazers', 'contributors_url': 'https://api.github.com/repos/public-apis/public-apis/contributors', 'subscribers_url': 'https://api.github.com/repos/public-apis/public-apis/subscribers', 'subscription_url': 'https://api.github.com/repos/public-apis/public-apis/subscription', 'commits_url': 'https://api.github.com/repos/public-apis/public-apis/commits{/sha}', 'git_commits_url': 'https://api.github.com/repos/public-apis/public-apis/git/commits{/sha}', 'comments_url': 'https://api.github.com/repos/public-apis/public-apis/comments{/number}', 'issue_comment_url': 'https://api.github.com/repos/public-apis/public-apis/issues/comments{/number}', 'contents_url': 'https://api.github.com/repos/public-apis/public-apis/contents/{+path}', 'compare_url': 'https://api.github.com/repos/public-apis/public-apis/compare/{base}...{head}', 'merges_url': 'https://api.github.com/repos/public-apis/public-apis/merges', 'archive_url': 'https://api.github.com/repos/public-apis/public-apis/{archive_format}{/ref}', 'downloads_url': 'https://api.github.com/repos/public-apis/public-apis/downloads', 'issues_url': 'https://api.github.com/repos/public-apis/public-apis/issues{/number}', 'pulls_url': 'https://api.github.com/repos/public-apis/public-apis/pulls{/number}', 'milestones_url': 'https://api.github.com/repos/public-apis/public-apis/milestones{/number}', 'notifications_url': 'https://api.github.com/repos/public-apis/public-apis/notifications{?since,all,participating}', 'labels_url': 'https://api.github.com/repos/public-apis/public-apis/labels{/name}', 'releases_url': 'https://api.github.com/repos/public-apis/public-apis/releases{/id}', 'deployments_url': 'https://api.github.com/repos/public-apis/public-apis/deployments', 'created_at': '2016-03-20T23:49:42Z', 'updated_at': '2024-06-03T03:49:11Z', 'pushed_at': '2024-05-31T16:44:44Z', 'git_url': 'git://github.com/public-apis/public-apis.git', 'ssh_url': 'git@github.com:public-apis/public-apis.git', 'clone_url': 'https://github.com/public-apis/public-apis.git', 'svn_url': 'https://github.com/public-apis/public-apis', 'homepage': 'http://public-apis.org', 'size': 4997, 'stargazers_count': 295223, 'watchers_count': 295223, 'language': 'Python', 'has_issues': True, 'has_projects': False, 'has_downloads': True, 'has_wiki': False, 'has_pages': False, 'has_discussions': False, 'forks_count': 32062, 'mirror_url': None, 'archived': False, 'disabled': False, 'open_issues_count': 267, 'license': {'key': 'mit', 'name': 'MIT License', 'spdx_id': 'MIT', 'url': 'https://api.github.com/licenses/mit', 'node_id': 'MDc6TGljZW5zZTEz'}, 'allow_forking': True, 'is_template': False, 'web_commit_signoff_required': False, 'topics': ['api', 'apis', 'dataset', 'development', 'free', 'list', 'lists', 'open-source', 'public', 'public-api', 'public-apis', 'resources', 'software'], 'visibility': 'public', 'forks': 32062, 'open_issues': 267, 'watchers': 295223, 'default_branch': 'master', 'score': 1.0}\n",
      "Name: Python\n",
      "Description: All Algorithms implemented in Python\n",
      "Stars: 181011\n",
      "{'id': 63476337, 'node_id': 'MDEwOlJlcG9zaXRvcnk2MzQ3NjMzNw==', 'name': 'Python', 'full_name': 'TheAlgorithms/Python', 'private': False, 'owner': {'login': 'TheAlgorithms', 'id': 20487725, 'node_id': 'MDEyOk9yZ2FuaXphdGlvbjIwNDg3NzI1', 'avatar_url': 'https://avatars.githubusercontent.com/u/20487725?v=4', 'gravatar_id': '', 'url': 'https://api.github.com/users/TheAlgorithms', 'html_url': 'https://github.com/TheAlgorithms', 'followers_url': 'https://api.github.com/users/TheAlgorithms/followers', 'following_url': 'https://api.github.com/users/TheAlgorithms/following{/other_user}', 'gists_url': 'https://api.github.com/users/TheAlgorithms/gists{/gist_id}', 'starred_url': 'https://api.github.com/users/TheAlgorithms/starred{/owner}{/repo}', 'subscriptions_url': 'https://api.github.com/users/TheAlgorithms/subscriptions', 'organizations_url': 'https://api.github.com/users/TheAlgorithms/orgs', 'repos_url': 'https://api.github.com/users/TheAlgorithms/repos', 'events_url': 'https://api.github.com/users/TheAlgorithms/events{/privacy}', 'received_events_url': 'https://api.github.com/users/TheAlgorithms/received_events', 'type': 'Organization', 'site_admin': False}, 'html_url': 'https://github.com/TheAlgorithms/Python', 'description': 'All Algorithms implemented in Python', 'fork': False, 'url': 'https://api.github.com/repos/TheAlgorithms/Python', 'forks_url': 'https://api.github.com/repos/TheAlgorithms/Python/forks', 'keys_url': 'https://api.github.com/repos/TheAlgorithms/Python/keys{/key_id}', 'collaborators_url': 'https://api.github.com/repos/TheAlgorithms/Python/collaborators{/collaborator}', 'teams_url': 'https://api.github.com/repos/TheAlgorithms/Python/teams', 'hooks_url': 'https://api.github.com/repos/TheAlgorithms/Python/hooks', 'issue_events_url': 'https://api.github.com/repos/TheAlgorithms/Python/issues/events{/number}', 'events_url': 'https://api.github.com/repos/TheAlgorithms/Python/events', 'assignees_url': 'https://api.github.com/repos/TheAlgorithms/Python/assignees{/user}', 'branches_url': 'https://api.github.com/repos/TheAlgorithms/Python/branches{/branch}', 'tags_url': 'https://api.github.com/repos/TheAlgorithms/Python/tags', 'blobs_url': 'https://api.github.com/repos/TheAlgorithms/Python/git/blobs{/sha}', 'git_tags_url': 'https://api.github.com/repos/TheAlgorithms/Python/git/tags{/sha}', 'git_refs_url': 'https://api.github.com/repos/TheAlgorithms/Python/git/refs{/sha}', 'trees_url': 'https://api.github.com/repos/TheAlgorithms/Python/git/trees{/sha}', 'statuses_url': 'https://api.github.com/repos/TheAlgorithms/Python/statuses/{sha}', 'languages_url': 'https://api.github.com/repos/TheAlgorithms/Python/languages', 'stargazers_url': 'https://api.github.com/repos/TheAlgorithms/Python/stargazers', 'contributors_url': 'https://api.github.com/repos/TheAlgorithms/Python/contributors', 'subscribers_url': 'https://api.github.com/repos/TheAlgorithms/Python/subscribers', 'subscription_url': 'https://api.github.com/repos/TheAlgorithms/Python/subscription', 'commits_url': 'https://api.github.com/repos/TheAlgorithms/Python/commits{/sha}', 'git_commits_url': 'https://api.github.com/repos/TheAlgorithms/Python/git/commits{/sha}', 'comments_url': 'https://api.github.com/repos/TheAlgorithms/Python/comments{/number}', 'issue_comment_url': 'https://api.github.com/repos/TheAlgorithms/Python/issues/comments{/number}', 'contents_url': 'https://api.github.com/repos/TheAlgorithms/Python/contents/{+path}', 'compare_url': 'https://api.github.com/repos/TheAlgorithms/Python/compare/{base}...{head}', 'merges_url': 'https://api.github.com/repos/TheAlgorithms/Python/merges', 'archive_url': 'https://api.github.com/repos/TheAlgorithms/Python/{archive_format}{/ref}', 'downloads_url': 'https://api.github.com/repos/TheAlgorithms/Python/downloads', 'issues_url': 'https://api.github.com/repos/TheAlgorithms/Python/issues{/number}', 'pulls_url': 'https://api.github.com/repos/TheAlgorithms/Python/pulls{/number}', 'milestones_url': 'https://api.github.com/repos/TheAlgorithms/Python/milestones{/number}', 'notifications_url': 'https://api.github.com/repos/TheAlgorithms/Python/notifications{?since,all,participating}', 'labels_url': 'https://api.github.com/repos/TheAlgorithms/Python/labels{/name}', 'releases_url': 'https://api.github.com/repos/TheAlgorithms/Python/releases{/id}', 'deployments_url': 'https://api.github.com/repos/TheAlgorithms/Python/deployments', 'created_at': '2016-07-16T09:44:01Z', 'updated_at': '2024-06-03T03:43:36Z', 'pushed_at': '2024-06-03T03:15:01Z', 'git_url': 'git://github.com/TheAlgorithms/Python.git', 'ssh_url': 'git@github.com:TheAlgorithms/Python.git', 'clone_url': 'https://github.com/TheAlgorithms/Python.git', 'svn_url': 'https://github.com/TheAlgorithms/Python', 'homepage': 'https://the-algorithms.com/', 'size': 15394, 'stargazers_count': 181011, 'watchers_count': 181011, 'language': 'Python', 'has_issues': True, 'has_projects': True, 'has_downloads': True, 'has_wiki': True, 'has_pages': False, 'has_discussions': True, 'forks_count': 43847, 'mirror_url': None, 'archived': False, 'disabled': False, 'open_issues_count': 224, 'license': {'key': 'mit', 'name': 'MIT License', 'spdx_id': 'MIT', 'url': 'https://api.github.com/licenses/mit', 'node_id': 'MDc6TGljZW5zZTEz'}, 'allow_forking': True, 'is_template': False, 'web_commit_signoff_required': False, 'topics': ['algorithm', 'algorithm-competitions', 'algorithms-implemented', 'algos', 'community-driven', 'education', 'hacktoberfest', 'interview', 'learn', 'practice', 'python', 'searches', 'sorting-algorithms', 'sorts'], 'visibility': 'public', 'forks': 43847, 'open_issues': 224, 'watchers': 181011, 'default_branch': 'master', 'score': 1.0}\n",
      "Name: AutoGPT\n",
      "Description: AutoGPT is the vision of accessible AI for everyone, to use and to build on. Our mission is to provide the tools, so that you can focus on what matters.\n",
      "Stars: 162669\n",
      "{'id': 614765452, 'node_id': 'R_kgDOJKSTjA', 'name': 'AutoGPT', 'full_name': 'Significant-Gravitas/AutoGPT', 'private': False, 'owner': {'login': 'Significant-Gravitas', 'id': 130738209, 'node_id': 'O_kgDOB8roIQ', 'avatar_url': 'https://avatars.githubusercontent.com/u/130738209?v=4', 'gravatar_id': '', 'url': 'https://api.github.com/users/Significant-Gravitas', 'html_url': 'https://github.com/Significant-Gravitas', 'followers_url': 'https://api.github.com/users/Significant-Gravitas/followers', 'following_url': 'https://api.github.com/users/Significant-Gravitas/following{/other_user}', 'gists_url': 'https://api.github.com/users/Significant-Gravitas/gists{/gist_id}', 'starred_url': 'https://api.github.com/users/Significant-Gravitas/starred{/owner}{/repo}', 'subscriptions_url': 'https://api.github.com/users/Significant-Gravitas/subscriptions', 'organizations_url': 'https://api.github.com/users/Significant-Gravitas/orgs', 'repos_url': 'https://api.github.com/users/Significant-Gravitas/repos', 'events_url': 'https://api.github.com/users/Significant-Gravitas/events{/privacy}', 'received_events_url': 'https://api.github.com/users/Significant-Gravitas/received_events', 'type': 'Organization', 'site_admin': False}, 'html_url': 'https://github.com/Significant-Gravitas/AutoGPT', 'description': 'AutoGPT is the vision of accessible AI for everyone, to use and to build on. Our mission is to provide the tools, so that you can focus on what matters.', 'fork': False, 'url': 'https://api.github.com/repos/Significant-Gravitas/AutoGPT', 'forks_url': 'https://api.github.com/repos/Significant-Gravitas/AutoGPT/forks', 'keys_url': 'https://api.github.com/repos/Significant-Gravitas/AutoGPT/keys{/key_id}', 'collaborators_url': 'https://api.github.com/repos/Significant-Gravitas/AutoGPT/collaborators{/collaborator}', 'teams_url': 'https://api.github.com/repos/Significant-Gravitas/AutoGPT/teams', 'hooks_url': 'https://api.github.com/repos/Significant-Gravitas/AutoGPT/hooks', 'issue_events_url': 'https://api.github.com/repos/Significant-Gravitas/AutoGPT/issues/events{/number}', 'events_url': 'https://api.github.com/repos/Significant-Gravitas/AutoGPT/events', 'assignees_url': 'https://api.github.com/repos/Significant-Gravitas/AutoGPT/assignees{/user}', 'branches_url': 'https://api.github.com/repos/Significant-Gravitas/AutoGPT/branches{/branch}', 'tags_url': 'https://api.github.com/repos/Significant-Gravitas/AutoGPT/tags', 'blobs_url': 'https://api.github.com/repos/Significant-Gravitas/AutoGPT/git/blobs{/sha}', 'git_tags_url': 'https://api.github.com/repos/Significant-Gravitas/AutoGPT/git/tags{/sha}', 'git_refs_url': 'https://api.github.com/repos/Significant-Gravitas/AutoGPT/git/refs{/sha}', 'trees_url': 'https://api.github.com/repos/Significant-Gravitas/AutoGPT/git/trees{/sha}', 'statuses_url': 'https://api.github.com/repos/Significant-Gravitas/AutoGPT/statuses/{sha}', 'languages_url': 'https://api.github.com/repos/Significant-Gravitas/AutoGPT/languages', 'stargazers_url': 'https://api.github.com/repos/Significant-Gravitas/AutoGPT/stargazers', 'contributors_url': 'https://api.github.com/repos/Significant-Gravitas/AutoGPT/contributors', 'subscribers_url': 'https://api.github.com/repos/Significant-Gravitas/AutoGPT/subscribers', 'subscription_url': 'https://api.github.com/repos/Significant-Gravitas/AutoGPT/subscription', 'commits_url': 'https://api.github.com/repos/Significant-Gravitas/AutoGPT/commits{/sha}', 'git_commits_url': 'https://api.github.com/repos/Significant-Gravitas/AutoGPT/git/commits{/sha}', 'comments_url': 'https://api.github.com/repos/Significant-Gravitas/AutoGPT/comments{/number}', 'issue_comment_url': 'https://api.github.com/repos/Significant-Gravitas/AutoGPT/issues/comments{/number}', 'contents_url': 'https://api.github.com/repos/Significant-Gravitas/AutoGPT/contents/{+path}', 'compare_url': 'https://api.github.com/repos/Significant-Gravitas/AutoGPT/compare/{base}...{head}', 'merges_url': 'https://api.github.com/repos/Significant-Gravitas/AutoGPT/merges', 'archive_url': 'https://api.github.com/repos/Significant-Gravitas/AutoGPT/{archive_format}{/ref}', 'downloads_url': 'https://api.github.com/repos/Significant-Gravitas/AutoGPT/downloads', 'issues_url': 'https://api.github.com/repos/Significant-Gravitas/AutoGPT/issues{/number}', 'pulls_url': 'https://api.github.com/repos/Significant-Gravitas/AutoGPT/pulls{/number}', 'milestones_url': 'https://api.github.com/repos/Significant-Gravitas/AutoGPT/milestones{/number}', 'notifications_url': 'https://api.github.com/repos/Significant-Gravitas/AutoGPT/notifications{?since,all,participating}', 'labels_url': 'https://api.github.com/repos/Significant-Gravitas/AutoGPT/labels{/name}', 'releases_url': 'https://api.github.com/repos/Significant-Gravitas/AutoGPT/releases{/id}', 'deployments_url': 'https://api.github.com/repos/Significant-Gravitas/AutoGPT/deployments', 'created_at': '2023-03-16T09:21:07Z', 'updated_at': '2024-06-03T03:47:08Z', 'pushed_at': '2024-06-03T03:35:57Z', 'git_url': 'git://github.com/Significant-Gravitas/AutoGPT.git', 'ssh_url': 'git@github.com:Significant-Gravitas/AutoGPT.git', 'clone_url': 'https://github.com/Significant-Gravitas/AutoGPT.git', 'svn_url': 'https://github.com/Significant-Gravitas/AutoGPT', 'homepage': 'https://agpt.co', 'size': 121564, 'stargazers_count': 162669, 'watchers_count': 162669, 'language': 'Python', 'has_issues': True, 'has_projects': True, 'has_downloads': True, 'has_wiki': True, 'has_pages': False, 'has_discussions': True, 'forks_count': 42961, 'mirror_url': None, 'archived': False, 'disabled': False, 'open_issues_count': 174, 'license': {'key': 'mit', 'name': 'MIT License', 'spdx_id': 'MIT', 'url': 'https://api.github.com/licenses/mit', 'node_id': 'MDc6TGljZW5zZTEz'}, 'allow_forking': True, 'is_template': False, 'web_commit_signoff_required': False, 'topics': ['ai', 'artificial-intelligence', 'autonomous-agents', 'gpt-4', 'openai', 'python'], 'visibility': 'public', 'forks': 42961, 'open_issues': 174, 'watchers': 162669, 'default_branch': 'master', 'score': 1.0}\n"
     ]
    }
   ],
   "source": [
    "import requests\n",
    "\n",
    "# Search GitHub's repositories for popular Python projects\n",
    "response = requests.get(\n",
    "    \"https://api.github.com/search/repositories\",\n",
    "    params={\"q\": \"language:python\", \"sort\": \"stars\", \"order\": \"desc\"},)\n",
    "    # params=b\"q=language:python&sort=stars&order=desc\",\n",
    "'''\n",
    "    requests.get(\n",
    "...     \"https://api.github.com/search/repositories\",\n",
    "...     [(\"q\", \"language:python\"), (\"sort\", \"stars\"), (\"order\", \"desc\")]\n",
    ")\n",
    "'''\n",
    "\n",
    "# Inspect some attributes of the first three repositories\n",
    "json_response = response.json()\n",
    "popular_repositories = json_response[\"items\"]\n",
    "for repo in popular_repositories[:3]:\n",
    "\n",
    "    print(f\"Name: {repo['name']}\")\n",
    "    print(f\"Description: {repo['description']}\")\n",
    "    print(f\"Stars: {repo['stargazers_count']}\")\n",
    "    print(repo)"
   ]
  },
  {
   "cell_type": "markdown",
   "metadata": {},
   "source": [
    "## Authentication"
   ]
  },
  {
   "cell_type": "code",
   "execution_count": 24,
   "metadata": {},
   "outputs": [
    {
     "data": {
      "text/plain": [
       "'Basic dXNlcjpwYXNzd2Q='"
      ]
     },
     "execution_count": 24,
     "metadata": {},
     "output_type": "execute_result"
    }
   ],
   "source": [
    "import requests\n",
    "response = requests.get(\n",
    "    \"https://httpbin.org/basic-auth/user/passwd\",\n",
    "    auth=(\"user\", \"passwd\")\n",
    ")\n",
    "\n",
    "response.status_code\n",
    "response.request.headers[\"Authorization\"]"
   ]
  },
  {
   "cell_type": "markdown",
   "metadata": {},
   "source": [
    "from requests.auth import HTTPBasicAuth\n",
    "requests.get(\n",
    "\"https://httpbin.org/basic-auth/user/passwd\",\n",
    "auth=HTTPBasicAuth(\"user\", \"passwd\")\n",
    ")\n"
   ]
  },
  {
   "cell_type": "markdown",
   "metadata": {},
   "source": [
    "### implement token by a subclass of AuthBase\n",
    "using class to add the token to request headers is better."
   ]
  },
  {
   "cell_type": "code",
   "execution_count": 25,
   "metadata": {},
   "outputs": [],
   "source": [
    "from requests.auth import AuthBase\n",
    "\n",
    "class TokenAuth(AuthBase):\n",
    "    \"\"\"Implements a token authentication scheme.\"\"\"\n",
    "\n",
    "    def __init__(self, token):\n",
    "        self.token = token\n",
    "\n",
    "    def __call__(self, request):\n",
    "        \"\"\"Attach an API token to the Authorization header.\"\"\"\n",
    "        request.headers[\"Authorization\"] = f\"Bearer {self.token}\"\n",
    "        return request"
   ]
  },
  {
   "cell_type": "code",
   "execution_count": 26,
   "metadata": {},
   "outputs": [
    {
     "ename": "NameError",
     "evalue": "name 'yourtoken' is not defined",
     "output_type": "error",
     "traceback": [
      "\u001b[0;31m---------------------------------------------------------------------------\u001b[0m",
      "\u001b[0;31mNameError\u001b[0m                                 Traceback (most recent call last)",
      "Cell \u001b[0;32mIn[26], line 3\u001b[0m\n\u001b[1;32m      1\u001b[0m response \u001b[38;5;241m=\u001b[39m requests\u001b[38;5;241m.\u001b[39mget(\n\u001b[1;32m      2\u001b[0m \u001b[38;5;124m\"\u001b[39m\u001b[38;5;124mhttps://api.github.com/user\u001b[39m\u001b[38;5;124m\"\u001b[39m,\n\u001b[0;32m----> 3\u001b[0m auth\u001b[38;5;241m=\u001b[39mTokenAuth(\u001b[43myourtoken\u001b[49m)\n\u001b[1;32m      4\u001b[0m )\n",
      "\u001b[0;31mNameError\u001b[0m: name 'yourtoken' is not defined"
     ]
    }
   ],
   "source": [
    "response = requests.get(\n",
    "\"https://api.github.com/user\",\n",
    "auth=TokenAuth(yourtoken)\n",
    ")"
   ]
  },
  {
   "cell_type": "markdown",
   "metadata": {},
   "source": [
    "## SSL Certificate Verification"
   ]
  },
  {
   "cell_type": "markdown",
   "metadata": {},
   "source": []
  }
 ],
 "metadata": {
  "kernelspec": {
   "display_name": "Python 3 (ipykernel)",
   "language": "python",
   "name": "python3"
  }
 },
 "nbformat": 4,
 "nbformat_minor": 2
}
